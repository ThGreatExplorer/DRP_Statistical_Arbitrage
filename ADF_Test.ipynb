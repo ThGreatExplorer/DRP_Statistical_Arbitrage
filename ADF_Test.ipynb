{
 "cells": [
  {
   "cell_type": "code",
   "execution_count": 1,
   "id": "d95d7906-c474-4a91-b8b4-2303d90f4635",
   "metadata": {},
   "outputs": [],
   "source": [
    "import numpy as np\n",
    "import pandas as pd\n",
    "\n",
    "import statsmodels\n",
    "import statsmodels.api as sm\n",
    "from statsmodels.tsa.stattools import coint, adfuller\n",
    "\n",
    "import matplotlib.pyplot as plt"
   ]
  },
  {
   "cell_type": "code",
   "execution_count": 2,
   "id": "1aa16428-b7fe-41b2-b5b4-a79c7967cc86",
   "metadata": {},
   "outputs": [],
   "source": [
    "file_path = \"US10_yr_2000.csv\"\n",
    "#  test for stationarity for past year US 10 yr Treasury bond, 2022-2023"
   ]
  },
  {
   "cell_type": "code",
   "execution_count": 3,
   "id": "3348e9da-958d-484b-8be9-d8b05a81cb25",
   "metadata": {},
   "outputs": [],
   "source": [
    "df = pd.read_csv(file_path)"
   ]
  },
  {
   "cell_type": "code",
   "execution_count": 4,
   "id": "f5fc6fc8-ecd6-4206-9ed7-cbe65004c058",
   "metadata": {},
   "outputs": [
    {
     "name": "stdout",
     "output_type": "stream",
     "text": [
      "            Date  PX_LAST  PX_BID\n",
      "0      11/3/2023   4.5724  4.5744\n",
      "1      11/2/2023   4.6590  4.6611\n",
      "2      11/1/2023   4.7341  4.7362\n",
      "3     10/31/2023   4.9307  4.9328\n",
      "4     10/30/2023   4.8942  4.8964\n",
      "...          ...      ...     ...\n",
      "5993  11/10/2000   5.7830  5.7830\n",
      "5994   11/9/2000   5.8250  5.8250\n",
      "5995   11/8/2000   5.8550  5.8550\n",
      "5996   11/7/2000   5.8660  5.8660\n",
      "5997   11/6/2000   5.8550  5.8550\n",
      "\n",
      "[5998 rows x 3 columns]\n"
     ]
    }
   ],
   "source": [
    "print(df)"
   ]
  },
  {
   "cell_type": "code",
   "execution_count": 5,
   "id": "154f5826-fdbc-412f-82a4-9e9749c746c8",
   "metadata": {},
   "outputs": [
    {
     "name": "stdout",
     "output_type": "stream",
     "text": [
      "0       4.5724\n",
      "1       4.6590\n",
      "2       4.7341\n",
      "3       4.9307\n",
      "4       4.8942\n",
      "         ...  \n",
      "5993    5.7830\n",
      "5994    5.8250\n",
      "5995    5.8550\n",
      "5996    5.8660\n",
      "5997    5.8550\n",
      "Name: PX_LAST, Length: 5998, dtype: float64\n"
     ]
    }
   ],
   "source": [
    "T_series = df['PX_LAST']\n",
    "print(T_series)"
   ]
  },
  {
   "cell_type": "code",
   "execution_count": 6,
   "id": "d7b94e6b-fe49-4f03-9d34-bf2157f90c40",
   "metadata": {},
   "outputs": [],
   "source": [
    "def check_for_stationarity(X, cutoff=0.01):\n",
    "    # H_0 in adfuller is unit root exists (non-stationary)\n",
    "    # We must observe significant p-value to convince ourselves that the series is stationary\n",
    "    # adfuller (augmented dicky fuller test) is a statistically significant test for stationary dataset\n",
    "    pvalue = adfuller(X)[1]\n",
    "    if pvalue < cutoff:\n",
    "        print('p-value = ' + str(pvalue) + ' The series ' + X.name +' is likely stationary.')\n",
    "        return True\n",
    "    else:\n",
    "        print('p-value = ' + str(pvalue) + ' The series ' + X.name +' is likely non-stationary.')\n",
    "        return False"
   ]
  },
  {
   "cell_type": "code",
   "execution_count": 7,
   "id": "caa275d4-4806-4c21-9bfe-2f8d9ee48d27",
   "metadata": {},
   "outputs": [
    {
     "name": "stdout",
     "output_type": "stream",
     "text": [
      "p-value = 0.5840302941898874 The series PX_LAST is likely non-stationary.\n"
     ]
    },
    {
     "data": {
      "text/plain": [
       "False"
      ]
     },
     "execution_count": 7,
     "metadata": {},
     "output_type": "execute_result"
    }
   ],
   "source": [
    "check_for_stationarity(T_series)"
   ]
  },
  {
   "cell_type": "code",
   "execution_count": 8,
   "id": "eb5a18cd-9f49-4720-b653-2d17030f70e0",
   "metadata": {
    "scrolled": true
   },
   "outputs": [
    {
     "name": "stdout",
     "output_type": "stream",
     "text": [
      "1       0.0866\n",
      "2       0.0751\n",
      "3       0.1966\n",
      "4      -0.0365\n",
      "5      -0.0596\n",
      "         ...  \n",
      "5993    0.0170\n",
      "5994    0.0420\n",
      "5995    0.0300\n",
      "5996    0.0110\n",
      "5997   -0.0110\n",
      "Name: PX_LAST, Length: 5997, dtype: float64\n"
     ]
    }
   ],
   "source": [
    "# check if 1st diff is stationary\n",
    "T1_series = T_series.diff()[1:]\n",
    "print(T1_series)"
   ]
  },
  {
   "cell_type": "code",
   "execution_count": 9,
   "id": "7d8d8ecc-698b-4c7f-bd9d-0b32347d4c7d",
   "metadata": {},
   "outputs": [
    {
     "name": "stdout",
     "output_type": "stream",
     "text": [
      "p-value = 7.865516065070602e-30 The series PX_LAST is likely stationary.\n"
     ]
    },
    {
     "data": {
      "text/plain": [
       "True"
      ]
     },
     "execution_count": 9,
     "metadata": {},
     "output_type": "execute_result"
    }
   ],
   "source": [
    "check_for_stationarity(T1_series)"
   ]
  },
  {
   "cell_type": "code",
   "execution_count": 10,
   "id": "d78e2807-e6ad-48ee-9d53-9d157b54f3c2",
   "metadata": {
    "scrolled": true
   },
   "outputs": [
    {
     "name": "stdout",
     "output_type": "stream",
     "text": [
      "            Date  PX_LAST  PX_BID\n",
      "0      11/3/2023   4.5724  4.5744\n",
      "1      11/2/2023   4.6590  4.6611\n",
      "2      11/1/2023   4.7341  4.7362\n",
      "3     10/31/2023   4.9307  4.9328\n",
      "4     10/30/2023   4.8942  4.8964\n",
      "...          ...      ...     ...\n",
      "5993  11/10/2000   5.7830  5.7830\n",
      "5994   11/9/2000   5.8250  5.8250\n",
      "5995   11/8/2000   5.8550  5.8550\n",
      "5996   11/7/2000   5.8660  5.8660\n",
      "5997   11/6/2000   5.8550  5.8550\n",
      "\n",
      "[5998 rows x 3 columns]\n"
     ]
    }
   ],
   "source": [
    "# now check for stationarity over longer time-frame i.e. 2000-2023 for US 10 year treasurty\n",
    "df2 = pd.read_csv(\"US10_yr_2000.csv\")\n",
    "print(df2)"
   ]
  },
  {
   "cell_type": "code",
   "execution_count": 11,
   "id": "7523c2fd-f64c-4e83-b72a-43dd21a11d8e",
   "metadata": {},
   "outputs": [
    {
     "name": "stdout",
     "output_type": "stream",
     "text": [
      "p-value = 0.5840302941898874 The series PX_LAST is likely non-stationary.\n"
     ]
    },
    {
     "data": {
      "text/plain": [
       "False"
      ]
     },
     "execution_count": 11,
     "metadata": {},
     "output_type": "execute_result"
    }
   ],
   "source": [
    "T_series2 = df2['PX_LAST']\n",
    "check_for_stationarity(T_series2)"
   ]
  },
  {
   "cell_type": "code",
   "execution_count": 12,
   "id": "9f294bde-b369-482a-9634-6398e254c030",
   "metadata": {},
   "outputs": [
    {
     "name": "stdout",
     "output_type": "stream",
     "text": [
      "p-value = 7.865516065070602e-30 The series PX_LAST is likely stationary.\n"
     ]
    },
    {
     "data": {
      "text/plain": [
       "True"
      ]
     },
     "execution_count": 12,
     "metadata": {},
     "output_type": "execute_result"
    }
   ],
   "source": [
    "T1_series2 = T_series2.diff()[1:]\n",
    "check_for_stationarity(T1_series2)"
   ]
  },
  {
   "cell_type": "markdown",
   "id": "b64cd05e-f4e0-41ec-b568-e19a0d212a31",
   "metadata": {},
   "source": [
    "# Conclusion\n",
    "US Treasury bond **yield** data is I(1) integrated, and likely stationary"
   ]
  },
  {
   "cell_type": "code",
   "execution_count": null,
   "id": "e584e049-fabe-4b6a-88d4-eaed4b9ddd11",
   "metadata": {},
   "outputs": [],
   "source": []
  }
 ],
 "metadata": {
  "kernelspec": {
   "display_name": "Python 3 (ipykernel)",
   "language": "python",
   "name": "python3"
  },
  "language_info": {
   "codemirror_mode": {
    "name": "ipython",
    "version": 3
   },
   "file_extension": ".py",
   "mimetype": "text/x-python",
   "name": "python",
   "nbconvert_exporter": "python",
   "pygments_lexer": "ipython3",
   "version": "3.11.4"
  }
 },
 "nbformat": 4,
 "nbformat_minor": 5
}
