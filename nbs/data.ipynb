{
 "cells": [
  {
   "cell_type": "code",
   "execution_count": 1,
   "id": "7af7bfc1",
   "metadata": {},
   "outputs": [],
   "source": [
    "import pandas as pd\n",
    "import numpy as np\n",
    "import os"
   ]
  },
  {
   "cell_type": "code",
   "execution_count": 2,
   "id": "a5821a41",
   "metadata": {},
   "outputs": [],
   "source": [
    "def clean(location):\n",
    "    \"\"\"\n",
    "    function that will clean a dataframe according to\n",
    "    a file location \n",
    "    \"\"\"\n",
    "    def read(location):\n",
    "        \"\"\" read the csv and error out if it fails \"\"\"\n",
    "        try:\n",
    "            return pd.read_csv(loc)\n",
    "        except:\n",
    "            print(f'file not found at {loc}')\n",
    "            return\n",
    "        \n",
    "    def subset_columns(dataframe, remove = ['PX_VOLUME']):\n",
    "        \"\"\" removes irrelevant columns imported from bloomberg \"\"\"\n",
    "        df = dataframe.drop(columns = remove)\n",
    "        return df\n",
    "    \n",
    "    def initialize_columns(dataframe):\n",
    "        \"\"\" renames columns and sets time as index \"\"\"\n",
    "        df = dataframe.copy()\n",
    "        df.columns = ['Date', 'Value']\n",
    "        df.set_index('Date', inplace = True)\n",
    "        return df\n",
    "\n",
    "    \n",
    "    return initialize_columns(subset_columns(read(location)))"
   ]
  },
  {
   "cell_type": "code",
   "execution_count": 4,
   "id": "81afd5e0",
   "metadata": {},
   "outputs": [],
   "source": [
    "def get_price_data(directory):\n",
    "    \"\"\"\n",
    "    calling this will get all the csv in a directory, read and attempt to \n",
    "    clean them all, then outer join them along their dates\n",
    "    \"\"\"\n",
    "    files = [f for f in os.listdir(directory) if os.path.isfile(os.path.join(directory, f))]\n",
    "    dfs = [clean(f) for f in files]\n",
    "    return pd.concat(dfs, axis = 0)"
   ]
  },
  {
   "cell_type": "code",
   "execution_count": null,
   "id": "3fb1c066",
   "metadata": {},
   "outputs": [],
   "source": []
  }
 ],
 "metadata": {
  "kernelspec": {
   "display_name": "Python 3 (ipykernel)",
   "language": "python",
   "name": "python3"
  },
  "language_info": {
   "codemirror_mode": {
    "name": "ipython",
    "version": 3
   },
   "file_extension": ".py",
   "mimetype": "text/x-python",
   "name": "python",
   "nbconvert_exporter": "python",
   "pygments_lexer": "ipython3",
   "version": "3.10.9"
  }
 },
 "nbformat": 4,
 "nbformat_minor": 5
}
