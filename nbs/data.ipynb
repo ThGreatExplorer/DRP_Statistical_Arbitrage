{
 "cells": [
  {
   "cell_type": "code",
   "execution_count": 1,
   "id": "7af7bfc1",
   "metadata": {},
   "outputs": [],
   "source": [
    "import pandas as pd\n",
    "import numpy as np\n",
    "import os"
   ]
  },
  {
   "cell_type": "code",
   "execution_count": 67,
   "id": "a5821a41",
   "metadata": {},
   "outputs": [],
   "source": [
    "def clean(location):\n",
    "    \"\"\"\n",
    "    function that will clean a dataframe according to\n",
    "    a file location \n",
    "    \"\"\"\n",
    "    def read(location):\n",
    "        \"\"\" read the csv and error out if it fails \"\"\"\n",
    "        try:\n",
    "            df = pd.read_csv(location)\n",
    "            df['Date'] = pd.to_datetime(df['Date'])\n",
    "            return df\n",
    "        except:\n",
    "            print(f'file not found at {location}')\n",
    "            return\n",
    "        \n",
    "    def subset_columns(dataframe, select = ['Date', 'PX_LAST']):\n",
    "        \"\"\" removes irrelevant columns imported from bloomberg \"\"\"\n",
    "        df = dataframe.loc[:, select]\n",
    "        return df\n",
    "    \n",
    "    def initialize_columns(dataframe):\n",
    "        \"\"\" renames columns and sets time as index \"\"\"\n",
    "        df = dataframe.copy()\n",
    "        df.columns = ['Date', 'Value']\n",
    "        df.set_index('Date', inplace = True)\n",
    "        return df\n",
    "\n",
    "    \n",
    "    return initialize_columns(subset_columns(read(location)))"
   ]
  },
  {
   "cell_type": "code",
   "execution_count": 128,
   "id": "81afd5e0",
   "metadata": {},
   "outputs": [],
   "source": [
    "def get_value_data(files, columns):\n",
    "    \"\"\"\n",
    "    calling this will get all the csv in a directory, read and attempt to \n",
    "    clean them all, then outer join them along their dates, providing the final\n",
    "    values themselves\n",
    "    \"\"\"\n",
    "    dfs = [clean(f) for f in files]\n",
    "    df = pd.concat(dfs, axis = 1, join='outer').sort_index()\n",
    "    df.columns = columns\n",
    "    return df\n",
    "\n",
    "def to_stationary(series):\n",
    "    \"\"\" custom pct change / difference function according to yield / total return \"\"\"\n",
    "    if max(series.dropna()) < 10:\n",
    "        return (series - series.shift(1)) / 100\n",
    "    else:\n",
    "        return (series / series.shift(1)) - 1\n",
    "    return df.apply(to_stationary, axis = 0)"
   ]
  },
  {
   "cell_type": "code",
   "execution_count": 129,
   "id": "33614efa",
   "metadata": {},
   "outputs": [],
   "source": [
    "class Data:\n",
    "    \n",
    "    def __init__(self, value_data):\n",
    "        self.data = value_data\n",
    "\n",
    "    def get_ffill_data(self):\n",
    "        return self.data.fillna(method = 'ffill').dropna()\n",
    "        \n",
    "    def get_pct_return(self):\n",
    "        return self.data / self.data.shift(-1) - 1\n",
    "    \n",
    "    def get_standard_return(self):\n",
    "        return self.data.apply(to_stationary, axis = 0)\n",
    "\n",
    "    def get_true_return(self):\n",
    "        filled = self.data.fillna(method = 'ffill')\n",
    "        return filled.apply(to_stationary, axis = 0)\n",
    "                \n",
    "    def __mle_normal_params__(series):\n",
    "        mu = np.mean(series.dropna())\n",
    "        var = np.var(series.dropna(), ddof=0)\n",
    "        return mu, var\n",
    "\n",
    "    def __bounded_normal__(mu, var):\n",
    "        sd = np.sqrt(var)\n",
    "        sample =  np.random.normal(mu, sd)\n",
    "        return min(sample, mu + 1.5*sd) if sample > 0 else max(sample, mu - 1.5*sd)\n",
    "\n",
    "    def get_mle_interpolate_return(self):\n",
    "        def interpolate(series):\n",
    "            mu, var = mle_normal_params(series)\n",
    "            return np.where(series.isna(),  np.random.normal(mu, np.sqrt(var)), series)\n",
    "        return self.data.apply(interpolate, axis = 0)\n",
    "\n",
    "    def get_mle_interpolate_bounded_return(self):\n",
    "        def interpolate(series):\n",
    "            mu, var = mle_normal_params(series)\n",
    "            return np.where(series.isna(),  np.random.normal(mu, np.sqrt(var)), series)\n",
    "        return self.data.apply(interpolate, axis = 0)"
   ]
  },
  {
   "cell_type": "code",
   "execution_count": 113,
   "id": "c74ff07c",
   "metadata": {},
   "outputs": [],
   "source": [
    "def initialize_data():\n",
    "    \"\"\" initializes all variables and informs scripts of imported functions\"\"\"\n",
    "\n",
    "    directory = r'../data/final_csv'\n",
    "    files = [f'{directory}/{f}' for f in os.listdir(directory) if os.path.isfile(os.path.join(directory, f))]\n",
    "    columns = ['us_agg', 'jpy', 'global_agg', 'gb', 'em_agg', 'ger', 'euro_agg', 'us']\n",
    "    value_data = get_value_data(files, columns)\n",
    "    return Data(value_data)"
   ]
  },
  {
   "cell_type": "code",
   "execution_count": 114,
   "id": "68d38b1b",
   "metadata": {},
   "outputs": [
    {
     "name": "stdout",
     "output_type": "stream",
     "text": [
      "Imported function `get_value_data(files, columns)` -> dataframe of values\n",
      "Imported function `get_value_data(files, columns)` -> dataframe of returns\n",
      "Imported function `initialize_data()` -> tuple of value and returns data\n"
     ]
    }
   ],
   "source": [
    "print(\"Imported function `get_value_data(files, columns)` -> dataframe of values\")\n",
    "print(\"Imported function `get_value_data(files, columns)` -> dataframe of returns\")\n",
    "print(\"Imported function `initialize_data()` -> tuple of value and returns data\")"
   ]
  },
  {
   "cell_type": "code",
   "execution_count": null,
   "id": "d565d68d",
   "metadata": {},
   "outputs": [],
   "source": []
  }
 ],
 "metadata": {
  "kernelspec": {
   "display_name": "Python 3 (ipykernel)",
   "language": "python",
   "name": "python3"
  },
  "language_info": {
   "codemirror_mode": {
    "name": "ipython",
    "version": 3
   },
   "file_extension": ".py",
   "mimetype": "text/x-python",
   "name": "python",
   "nbconvert_exporter": "python",
   "pygments_lexer": "ipython3",
   "version": "3.10.9"
  }
 },
 "nbformat": 4,
 "nbformat_minor": 5
}
