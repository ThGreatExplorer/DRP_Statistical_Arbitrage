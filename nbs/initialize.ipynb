{
 "cells": [
  {
   "cell_type": "code",
   "execution_count": 11,
   "id": "63d3c1e9",
   "metadata": {},
   "outputs": [
    {
     "name": "stdout",
     "output_type": "stream",
     "text": [
      "Imported function `get_value_data(files, columns)` -> dataframe of values\n",
      "Imported function `get_value_data(files, columns)` -> dataframe of returns\n",
      "Imported function `initialize_data()` -> tuple of value and returns data\n",
      "Imported class `Arbitrage(data : pd.DataFrame)` with methods `show_plot()`, `get_test_results()`\n"
     ]
    }
   ],
   "source": [
    "%run ./data.ipynb\n",
    "%run ./support.ipynb"
   ]
  },
  {
   "cell_type": "code",
   "execution_count": null,
   "id": "fed574e3",
   "metadata": {},
   "outputs": [],
   "source": []
  }
 ],
 "metadata": {
  "kernelspec": {
   "display_name": "Python 3 (ipykernel)",
   "language": "python",
   "name": "python3"
  },
  "language_info": {
   "codemirror_mode": {
    "name": "ipython",
    "version": 3
   },
   "file_extension": ".py",
   "mimetype": "text/x-python",
   "name": "python",
   "nbconvert_exporter": "python",
   "pygments_lexer": "ipython3",
   "version": "3.10.9"
  }
 },
 "nbformat": 4,
 "nbformat_minor": 5
}
