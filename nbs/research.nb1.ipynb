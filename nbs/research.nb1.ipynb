{
 "cells": [
  {
   "cell_type": "code",
   "execution_count": 98,
   "id": "1aef6bb8",
   "metadata": {},
   "outputs": [],
   "source": [
    "import pandas as pd\n",
    "import numpy as np\n",
    "from itertools import combinations"
   ]
  },
  {
   "cell_type": "code",
   "execution_count": 106,
   "id": "501ee8c5",
   "metadata": {},
   "outputs": [
    {
     "name": "stdout",
     "output_type": "stream",
     "text": [
      "Imported function `get_value_data(files, columns)` -> dataframe of values\n",
      "Imported function `get_value_data(files, columns)` -> dataframe of returns\n",
      "Imported function `initialize_data()` -> tuple of value and returns data\n",
      "Imported class `Arbitrage(data : pd.DataFrame)` with methods `show_plot()`, `get_test_results()`\n"
     ]
    }
   ],
   "source": [
    "%run ./initialize.ipynb"
   ]
  },
  {
   "cell_type": "code",
   "execution_count": 107,
   "id": "982dab3e",
   "metadata": {},
   "outputs": [],
   "source": [
    "data = initialize_data()\n",
    "return_init_df = data.get_standard_return()"
   ]
  },
  {
   "cell_type": "code",
   "execution_count": 108,
   "id": "34019374",
   "metadata": {},
   "outputs": [
    {
     "data": {
      "text/plain": [
       "us_agg        float64\n",
       "jpy           float64\n",
       "global_agg    float64\n",
       "gb            float64\n",
       "em_agg        float64\n",
       "ger           float64\n",
       "euro_agg      float64\n",
       "us            float64\n",
       "dtype: object"
      ]
     },
     "execution_count": 108,
     "metadata": {},
     "output_type": "execute_result"
    }
   ],
   "source": [
    "return_init_df.dtypes"
   ]
  },
  {
   "cell_type": "code",
   "execution_count": 109,
   "id": "65f1d7ff",
   "metadata": {},
   "outputs": [
    {
     "data": {
      "text/html": [
       "<div>\n",
       "<style scoped>\n",
       "    .dataframe tbody tr th:only-of-type {\n",
       "        vertical-align: middle;\n",
       "    }\n",
       "\n",
       "    .dataframe tbody tr th {\n",
       "        vertical-align: top;\n",
       "    }\n",
       "\n",
       "    .dataframe thead th {\n",
       "        text-align: right;\n",
       "    }\n",
       "</style>\n",
       "<table border=\"1\" class=\"dataframe\">\n",
       "  <thead>\n",
       "    <tr style=\"text-align: right;\">\n",
       "      <th></th>\n",
       "      <th>us_agg</th>\n",
       "      <th>jpy</th>\n",
       "      <th>global_agg</th>\n",
       "      <th>gb</th>\n",
       "      <th>em_agg</th>\n",
       "      <th>ger</th>\n",
       "      <th>euro_agg</th>\n",
       "      <th>us</th>\n",
       "    </tr>\n",
       "  </thead>\n",
       "  <tbody>\n",
       "    <tr>\n",
       "      <th>count</th>\n",
       "      <td>5515.000000</td>\n",
       "      <td>5.850000e+03</td>\n",
       "      <td>5949.000000</td>\n",
       "      <td>5975.000000</td>\n",
       "      <td>5515.000000</td>\n",
       "      <td>5995.000000</td>\n",
       "      <td>5704.000000</td>\n",
       "      <td>5995.000000</td>\n",
       "    </tr>\n",
       "    <tr>\n",
       "      <th>mean</th>\n",
       "      <td>0.000151</td>\n",
       "      <td>-8.153846e-07</td>\n",
       "      <td>0.000122</td>\n",
       "      <td>-0.000002</td>\n",
       "      <td>0.000261</td>\n",
       "      <td>-0.000004</td>\n",
       "      <td>0.000121</td>\n",
       "      <td>-0.000002</td>\n",
       "    </tr>\n",
       "    <tr>\n",
       "      <th>std</th>\n",
       "      <td>0.002596</td>\n",
       "      <td>2.333556e-04</td>\n",
       "      <td>0.003382</td>\n",
       "      <td>0.000515</td>\n",
       "      <td>0.003477</td>\n",
       "      <td>0.000442</td>\n",
       "      <td>0.002459</td>\n",
       "      <td>0.000590</td>\n",
       "    </tr>\n",
       "    <tr>\n",
       "      <th>min</th>\n",
       "      <td>-0.020654</td>\n",
       "      <td>-1.710000e-03</td>\n",
       "      <td>-0.021761</td>\n",
       "      <td>-0.004964</td>\n",
       "      <td>-0.036393</td>\n",
       "      <td>-0.002900</td>\n",
       "      <td>-0.017156</td>\n",
       "      <td>-0.004736</td>\n",
       "    </tr>\n",
       "    <tr>\n",
       "      <th>25%</th>\n",
       "      <td>-0.001280</td>\n",
       "      <td>-1.000000e-04</td>\n",
       "      <td>-0.001766</td>\n",
       "      <td>-0.000290</td>\n",
       "      <td>-0.000978</td>\n",
       "      <td>-0.000250</td>\n",
       "      <td>-0.001157</td>\n",
       "      <td>-0.000343</td>\n",
       "    </tr>\n",
       "    <tr>\n",
       "      <th>50%</th>\n",
       "      <td>0.000246</td>\n",
       "      <td>0.000000e+00</td>\n",
       "      <td>0.000130</td>\n",
       "      <td>0.000000</td>\n",
       "      <td>0.000376</td>\n",
       "      <td>-0.000010</td>\n",
       "      <td>0.000166</td>\n",
       "      <td>0.000000</td>\n",
       "    </tr>\n",
       "    <tr>\n",
       "      <th>75%</th>\n",
       "      <td>0.001632</td>\n",
       "      <td>1.000000e-04</td>\n",
       "      <td>0.002005</td>\n",
       "      <td>0.000276</td>\n",
       "      <td>0.001684</td>\n",
       "      <td>0.000230</td>\n",
       "      <td>0.001469</td>\n",
       "      <td>0.000341</td>\n",
       "    </tr>\n",
       "    <tr>\n",
       "      <th>max</th>\n",
       "      <td>0.019760</td>\n",
       "      <td>2.240000e-03</td>\n",
       "      <td>0.028569</td>\n",
       "      <td>0.004160</td>\n",
       "      <td>0.030677</td>\n",
       "      <td>0.002290</td>\n",
       "      <td>0.017870</td>\n",
       "      <td>0.003602</td>\n",
       "    </tr>\n",
       "  </tbody>\n",
       "</table>\n",
       "</div>"
      ],
      "text/plain": [
       "            us_agg           jpy   global_agg           gb       em_agg  \\\n",
       "count  5515.000000  5.850000e+03  5949.000000  5975.000000  5515.000000   \n",
       "mean      0.000151 -8.153846e-07     0.000122    -0.000002     0.000261   \n",
       "std       0.002596  2.333556e-04     0.003382     0.000515     0.003477   \n",
       "min      -0.020654 -1.710000e-03    -0.021761    -0.004964    -0.036393   \n",
       "25%      -0.001280 -1.000000e-04    -0.001766    -0.000290    -0.000978   \n",
       "50%       0.000246  0.000000e+00     0.000130     0.000000     0.000376   \n",
       "75%       0.001632  1.000000e-04     0.002005     0.000276     0.001684   \n",
       "max       0.019760  2.240000e-03     0.028569     0.004160     0.030677   \n",
       "\n",
       "               ger     euro_agg           us  \n",
       "count  5995.000000  5704.000000  5995.000000  \n",
       "mean     -0.000004     0.000121    -0.000002  \n",
       "std       0.000442     0.002459     0.000590  \n",
       "min      -0.002900    -0.017156    -0.004736  \n",
       "25%      -0.000250    -0.001157    -0.000343  \n",
       "50%      -0.000010     0.000166     0.000000  \n",
       "75%       0.000230     0.001469     0.000341  \n",
       "max       0.002290     0.017870     0.003602  "
      ]
     },
     "execution_count": 109,
     "metadata": {},
     "output_type": "execute_result"
    }
   ],
   "source": [
    "return_init_df.describe()"
   ]
  },
  {
   "cell_type": "code",
   "execution_count": 110,
   "id": "55adeafd",
   "metadata": {},
   "outputs": [
    {
     "data": {
      "text/plain": [
       "(6000, 8)"
      ]
     },
     "execution_count": 110,
     "metadata": {},
     "output_type": "execute_result"
    }
   ],
   "source": [
    "return_init_df.shape"
   ]
  },
  {
   "cell_type": "code",
   "execution_count": 111,
   "id": "659efcdc",
   "metadata": {},
   "outputs": [
    {
     "name": "stdout",
     "output_type": "stream",
     "text": [
      "total nan remaining: 1502\n",
      "us_agg        485\n",
      "jpy           150\n",
      "global_agg     51\n",
      "gb             25\n",
      "em_agg        485\n",
      "ger             5\n",
      "euro_agg      296\n",
      "us              5\n",
      "dtype: int64\n"
     ]
    }
   ],
   "source": [
    "print(f'total nan remaining: {return_init_df.isna().sum().sum()}')\n",
    "print(return_init_df.isna().sum())"
   ]
  },
  {
   "cell_type": "code",
   "execution_count": 112,
   "id": "418fe0cf",
   "metadata": {},
   "outputs": [
    {
     "data": {
      "text/plain": [
       "array([  0,   1,  13,  14,  35,  36,  40,  41,  50,  51,  75,  76, 114,\n",
       "       115, 145, 146, 172, 173, 215, 216])"
      ]
     },
     "execution_count": 112,
     "metadata": {},
     "output_type": "execute_result"
    }
   ],
   "source": [
    "np.where(return_init_df.us_agg.isna())[0][:20]"
   ]
  },
  {
   "cell_type": "code",
   "execution_count": 113,
   "id": "f12c75c2",
   "metadata": {
    "scrolled": true
   },
   "outputs": [
    {
     "data": {
      "text/html": [
       "<div>\n",
       "<style scoped>\n",
       "    .dataframe tbody tr th:only-of-type {\n",
       "        vertical-align: middle;\n",
       "    }\n",
       "\n",
       "    .dataframe tbody tr th {\n",
       "        vertical-align: top;\n",
       "    }\n",
       "\n",
       "    .dataframe thead th {\n",
       "        text-align: right;\n",
       "    }\n",
       "</style>\n",
       "<table border=\"1\" class=\"dataframe\">\n",
       "  <thead>\n",
       "    <tr style=\"text-align: right;\">\n",
       "      <th></th>\n",
       "      <th>us_agg</th>\n",
       "      <th>jpy</th>\n",
       "      <th>global_agg</th>\n",
       "      <th>gb</th>\n",
       "      <th>em_agg</th>\n",
       "      <th>ger</th>\n",
       "      <th>euro_agg</th>\n",
       "      <th>us</th>\n",
       "    </tr>\n",
       "    <tr>\n",
       "      <th>Date</th>\n",
       "      <th></th>\n",
       "      <th></th>\n",
       "      <th></th>\n",
       "      <th></th>\n",
       "      <th></th>\n",
       "      <th></th>\n",
       "      <th></th>\n",
       "      <th></th>\n",
       "    </tr>\n",
       "  </thead>\n",
       "  <tbody>\n",
       "    <tr>\n",
       "      <th>2000-11-08</th>\n",
       "      <td>0.000624</td>\n",
       "      <td>-0.00005</td>\n",
       "      <td>-0.002368</td>\n",
       "      <td>0.000037</td>\n",
       "      <td>-0.005770</td>\n",
       "      <td>0.00010</td>\n",
       "      <td>-0.000192</td>\n",
       "      <td>-0.00011</td>\n",
       "    </tr>\n",
       "    <tr>\n",
       "      <th>2000-11-09</th>\n",
       "      <td>0.001960</td>\n",
       "      <td>-0.00010</td>\n",
       "      <td>0.002085</td>\n",
       "      <td>-0.000163</td>\n",
       "      <td>0.000349</td>\n",
       "      <td>-0.00021</td>\n",
       "      <td>0.000474</td>\n",
       "      <td>-0.00030</td>\n",
       "    </tr>\n",
       "    <tr>\n",
       "      <th>2000-11-10</th>\n",
       "      <td>0.000122</td>\n",
       "      <td>0.00004</td>\n",
       "      <td>0.000937</td>\n",
       "      <td>-0.000228</td>\n",
       "      <td>0.005363</td>\n",
       "      <td>-0.00009</td>\n",
       "      <td>0.000713</td>\n",
       "      <td>-0.00042</td>\n",
       "    </tr>\n",
       "    <tr>\n",
       "      <th>2000-11-13</th>\n",
       "      <td>0.002067</td>\n",
       "      <td>-0.00028</td>\n",
       "      <td>0.001797</td>\n",
       "      <td>-0.000358</td>\n",
       "      <td>0.003666</td>\n",
       "      <td>-0.00034</td>\n",
       "      <td>0.003032</td>\n",
       "      <td>-0.00017</td>\n",
       "    </tr>\n",
       "    <tr>\n",
       "      <th>2000-11-14</th>\n",
       "      <td>0.000787</td>\n",
       "      <td>0.00006</td>\n",
       "      <td>-0.001735</td>\n",
       "      <td>0.000177</td>\n",
       "      <td>0.002980</td>\n",
       "      <td>0.00002</td>\n",
       "      <td>-0.000744</td>\n",
       "      <td>-0.00011</td>\n",
       "    </tr>\n",
       "  </tbody>\n",
       "</table>\n",
       "</div>"
      ],
      "text/plain": [
       "              us_agg      jpy  global_agg        gb    em_agg      ger  \\\n",
       "Date                                                                     \n",
       "2000-11-08  0.000624 -0.00005   -0.002368  0.000037 -0.005770  0.00010   \n",
       "2000-11-09  0.001960 -0.00010    0.002085 -0.000163  0.000349 -0.00021   \n",
       "2000-11-10  0.000122  0.00004    0.000937 -0.000228  0.005363 -0.00009   \n",
       "2000-11-13  0.002067 -0.00028    0.001797 -0.000358  0.003666 -0.00034   \n",
       "2000-11-14  0.000787  0.00006   -0.001735  0.000177  0.002980  0.00002   \n",
       "\n",
       "            euro_agg       us  \n",
       "Date                           \n",
       "2000-11-08 -0.000192 -0.00011  \n",
       "2000-11-09  0.000474 -0.00030  \n",
       "2000-11-10  0.000713 -0.00042  \n",
       "2000-11-13  0.003032 -0.00017  \n",
       "2000-11-14 -0.000744 -0.00011  "
      ]
     },
     "execution_count": 113,
     "metadata": {},
     "output_type": "execute_result"
    }
   ],
   "source": [
    "return_data = data.get_true_return().dropna()\n",
    "return_data.head()"
   ]
  },
  {
   "cell_type": "code",
   "execution_count": 117,
   "id": "fca547d8",
   "metadata": {},
   "outputs": [],
   "source": [
    "def equity_curve(asset):\n",
    "    if max(asset) > 0.5:\n",
    "        asset = to_stationary(asset).dropna()\n",
    "    \n",
    "    plot_values = (asset + 1).cumprod()\n",
    "    plot_values.plot()"
   ]
  },
  {
   "cell_type": "code",
   "execution_count": null,
   "id": "435f1744",
   "metadata": {},
   "outputs": [],
   "source": []
  }
 ],
 "metadata": {
  "kernelspec": {
   "display_name": "Python 3 (ipykernel)",
   "language": "python",
   "name": "python3"
  },
  "language_info": {
   "codemirror_mode": {
    "name": "ipython",
    "version": 3
   },
   "file_extension": ".py",
   "mimetype": "text/x-python",
   "name": "python",
   "nbconvert_exporter": "python",
   "pygments_lexer": "ipython3",
   "version": "3.10.9"
  }
 },
 "nbformat": 4,
 "nbformat_minor": 5
}
