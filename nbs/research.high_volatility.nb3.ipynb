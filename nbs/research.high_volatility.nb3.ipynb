{
 "cells": [
  {
   "cell_type": "code",
   "execution_count": 1,
   "id": "e6cebdb9",
   "metadata": {},
   "outputs": [],
   "source": [
    "import pandas as pd\n",
    "import numpy as np\n",
    "from itertools import combinations\n",
    "import matplotlib.pyplot as plt"
   ]
  },
  {
   "cell_type": "code",
   "execution_count": 2,
   "id": "eb2cca7f",
   "metadata": {},
   "outputs": [
    {
     "name": "stdout",
     "output_type": "stream",
     "text": [
      "Imported function `get_value_data(files, columns)` -> dataframe of values\n",
      "Imported function `get_value_data(files, columns)` -> dataframe of returns\n",
      "Imported function `initialize_data()` -> tuple of value and returns data\n",
      "Imported class `Arbitrage(data : pd.DataFrame)` with methods `show_plot()`, `get_test_results()`\n"
     ]
    }
   ],
   "source": [
    "%run ./initialize.ipynb"
   ]
  },
  {
   "cell_type": "code",
   "execution_count": 3,
   "id": "f2aa551b",
   "metadata": {},
   "outputs": [
    {
     "data": {
      "text/html": [
       "<div>\n",
       "<style scoped>\n",
       "    .dataframe tbody tr th:only-of-type {\n",
       "        vertical-align: middle;\n",
       "    }\n",
       "\n",
       "    .dataframe tbody tr th {\n",
       "        vertical-align: top;\n",
       "    }\n",
       "\n",
       "    .dataframe thead th {\n",
       "        text-align: right;\n",
       "    }\n",
       "</style>\n",
       "<table border=\"1\" class=\"dataframe\">\n",
       "  <thead>\n",
       "    <tr style=\"text-align: right;\">\n",
       "      <th></th>\n",
       "      <th>us_agg</th>\n",
       "      <th>jpy</th>\n",
       "      <th>global_agg</th>\n",
       "      <th>gb</th>\n",
       "      <th>em_agg</th>\n",
       "      <th>ger</th>\n",
       "      <th>euro_agg</th>\n",
       "      <th>us</th>\n",
       "    </tr>\n",
       "    <tr>\n",
       "      <th>Date</th>\n",
       "      <th></th>\n",
       "      <th></th>\n",
       "      <th></th>\n",
       "      <th></th>\n",
       "      <th></th>\n",
       "      <th></th>\n",
       "      <th></th>\n",
       "      <th></th>\n",
       "    </tr>\n",
       "  </thead>\n",
       "  <tbody>\n",
       "    <tr>\n",
       "      <th>2000-11-08</th>\n",
       "      <td>0.000624</td>\n",
       "      <td>-0.00005</td>\n",
       "      <td>-0.002368</td>\n",
       "      <td>0.000037</td>\n",
       "      <td>-0.005770</td>\n",
       "      <td>0.00010</td>\n",
       "      <td>-0.000192</td>\n",
       "      <td>-0.00011</td>\n",
       "    </tr>\n",
       "    <tr>\n",
       "      <th>2000-11-09</th>\n",
       "      <td>0.001960</td>\n",
       "      <td>-0.00010</td>\n",
       "      <td>0.002085</td>\n",
       "      <td>-0.000163</td>\n",
       "      <td>0.000349</td>\n",
       "      <td>-0.00021</td>\n",
       "      <td>0.000474</td>\n",
       "      <td>-0.00030</td>\n",
       "    </tr>\n",
       "    <tr>\n",
       "      <th>2000-11-10</th>\n",
       "      <td>0.000122</td>\n",
       "      <td>0.00004</td>\n",
       "      <td>0.000937</td>\n",
       "      <td>-0.000228</td>\n",
       "      <td>0.005363</td>\n",
       "      <td>-0.00009</td>\n",
       "      <td>0.000713</td>\n",
       "      <td>-0.00042</td>\n",
       "    </tr>\n",
       "    <tr>\n",
       "      <th>2000-11-13</th>\n",
       "      <td>0.002067</td>\n",
       "      <td>-0.00028</td>\n",
       "      <td>0.001797</td>\n",
       "      <td>-0.000358</td>\n",
       "      <td>0.003666</td>\n",
       "      <td>-0.00034</td>\n",
       "      <td>0.003032</td>\n",
       "      <td>-0.00017</td>\n",
       "    </tr>\n",
       "    <tr>\n",
       "      <th>2000-11-14</th>\n",
       "      <td>0.000787</td>\n",
       "      <td>0.00006</td>\n",
       "      <td>-0.001735</td>\n",
       "      <td>0.000177</td>\n",
       "      <td>0.002980</td>\n",
       "      <td>0.00002</td>\n",
       "      <td>-0.000744</td>\n",
       "      <td>-0.00011</td>\n",
       "    </tr>\n",
       "  </tbody>\n",
       "</table>\n",
       "</div>"
      ],
      "text/plain": [
       "              us_agg      jpy  global_agg        gb    em_agg      ger  \\\n",
       "Date                                                                     \n",
       "2000-11-08  0.000624 -0.00005   -0.002368  0.000037 -0.005770  0.00010   \n",
       "2000-11-09  0.001960 -0.00010    0.002085 -0.000163  0.000349 -0.00021   \n",
       "2000-11-10  0.000122  0.00004    0.000937 -0.000228  0.005363 -0.00009   \n",
       "2000-11-13  0.002067 -0.00028    0.001797 -0.000358  0.003666 -0.00034   \n",
       "2000-11-14  0.000787  0.00006   -0.001735  0.000177  0.002980  0.00002   \n",
       "\n",
       "            euro_agg       us  \n",
       "Date                           \n",
       "2000-11-08 -0.000192 -0.00011  \n",
       "2000-11-09  0.000474 -0.00030  \n",
       "2000-11-10  0.000713 -0.00042  \n",
       "2000-11-13  0.003032 -0.00017  \n",
       "2000-11-14 -0.000744 -0.00011  "
      ]
     },
     "execution_count": 3,
     "metadata": {},
     "output_type": "execute_result"
    }
   ],
   "source": [
    "data = initialize_data()\n",
    "df = data.get_ffill_data()\n",
    "returns = data.get_true_return().dropna()\n",
    "returns.head()"
   ]
  },
  {
   "cell_type": "code",
   "execution_count": 4,
   "id": "9ee90abe",
   "metadata": {},
   "outputs": [],
   "source": [
    "total_return_df = df[['us_agg', 'global_agg', 'em_agg', 'euro_agg']]\n",
    "yield_df = df[['jpy', 'gb', 'ger', 'us']]"
   ]
  },
  {
   "cell_type": "markdown",
   "id": "ae8a1fd4",
   "metadata": {},
   "source": [
    "## Methods to determine periods of high volatility.\n",
    "- Look back 2 years, rank the rolling volatilities, and check whether we are in a 90th percentile or higher"
   ]
  },
  {
   "cell_type": "code",
   "execution_count": 5,
   "id": "32bda5c6",
   "metadata": {},
   "outputs": [],
   "source": [
    "def get_rolling_volatilities(data, rolling_period = 20):\n",
    "    return data.rolling(rolling_period).std().dropna()\n",
    "\n",
    "def rank_volatilities(volatility_data):\n",
    "    from scipy.stats import percentileofscore\n",
    "    percentiles = volatility_data.apply(lambda x: percentileofscore(volatility_data, x))\n",
    "    return percentiles\n",
    "\n",
    "def high_volatility_market(volatility_data):\n",
    "    ranks = rank_volatilities(volatility_data)\n",
    "    return 1 if ranks[-1] > 80 else 0    "
   ]
  },
  {
   "cell_type": "code",
   "execution_count": 6,
   "id": "af0bf334",
   "metadata": {},
   "outputs": [],
   "source": [
    "def equity_curve_data(asset):\n",
    "    if isinstance(asset, pd.DataFrame):\n",
    "        asset = asset.apply(to_stationary, axis = 0)\n",
    "        insert_row = pd.Series([0] * len(asset.columns), index = asset.columns)\n",
    "        asset.iloc[0] = insert_row\n",
    "    \n",
    "    elif max(asset) > 0.5:\n",
    "        asset = to_stationary(asset).dropna()\n",
    "    \n",
    "    plot_values = (asset + 1).cumprod()\n",
    "    return plot_values"
   ]
  },
  {
   "cell_type": "markdown",
   "id": "48e8cb26",
   "metadata": {},
   "source": [
    "## Build rough strategy\n",
    "Idea: If we enter a high volatility state, trade the arbitrage until we are no longer in a high volatility environment"
   ]
  },
  {
   "cell_type": "code",
   "execution_count": 7,
   "id": "9134b912",
   "metadata": {},
   "outputs": [],
   "source": [
    "class Portfolio:\n",
    "    \n",
    "    def __init__(self, asset_returns, weights):\n",
    "        \n",
    "        self.weights = weights\n",
    "        self.asset_returns = asset_returns\n",
    "        self.returns = (self.weights * self.asset_returns).sum(axis = 1)\n",
    "        \n",
    "    def plot(self):\n",
    "        (self.returns + 1).cumprod().plot()"
   ]
  },
  {
   "cell_type": "code",
   "execution_count": 40,
   "id": "5e28722c",
   "metadata": {},
   "outputs": [],
   "source": [
    "class Test:\n",
    "    \n",
    "    def __init__(self, data):\n",
    "        \n",
    "        self.data = data.copy()\n",
    "        self.asset_rtn = data.apply(to_stationary, axis = 0)\n",
    "        \n",
    "        ew = data.copy().applymap(lambda x : 1 / len(data.columns))\n",
    "        self.ew_portfolio = Portfolio(self.asset_rtn, ew)\n",
    "        \n",
    "        self.positions = self.data.applymap(lambda x: 0)\n",
    "        \n",
    "        rolling_volatilities = get_rolling_volatilities(self.ew_portfolio.returns, 15).dropna()\n",
    "        self.high_volatility = rolling_volatilities.rolling(252).apply(high_volatility_market).dropna()\n",
    "\n",
    "    \n",
    "    def __backtest__(self):\n",
    "        \n",
    "        def find_positions(volatile_flag):\n",
    "            enter, exit = [], []\n",
    "            current_row = 0\n",
    "            while current_row < len(volatile_flag):\n",
    "                date, value = volatile_flag.index[current_row], volatile_flag.values[current_row]\n",
    "                if value == 1:\n",
    "                    ent_date, ext_date = date, date\n",
    "                    while current_row < len(volatile_flag) and volatile_flag.values[current_row] == 1:\n",
    "                        ext_date = volatile_flag.index[current_row]\n",
    "                        current_row += 1   \n",
    "                    enter.append(ent_date)\n",
    "                    exit.append(ext_date)\n",
    "                current_row += 1\n",
    "\n",
    "            return [(ent, ex) for ent, ex in zip(enter, exit)]\n",
    "\n",
    "    \n",
    "        positions = find_positions(self.high_volatility)        \n",
    "        length = 100\n",
    "        alpha = 0.05\n",
    "        for entrance, exit in positions:\n",
    "            start, end = entrance - pd.Timedelta(days = length), entrance\n",
    "            relevant = self.data.loc[start: end]\n",
    "            arb = Arbitrage(relevant, method = 'wls')\n",
    "            # if there isn't any cointegration over the past 3 months, just ignore this signal\n",
    "            if arb.get_test_results()[1] > alpha:\n",
    "                continue\n",
    "            \n",
    "            test_arb = self.data.loc[entrance: exit]\n",
    "            x_test = test_arb.drop([arb.dependent], axis = 1)\n",
    "            y_test = test_arb[arb.dependent]\n",
    "            \n",
    "            # go time step by time step - shorting / longing as needed\n",
    "            current_index = 0\n",
    "            while current_index < len(y_test):\n",
    "                date = y_test.index[current_index]\n",
    "                prediction = arb.model.predict(x_test.iloc[current_index])[0]\n",
    "                true = y_test[current_index]\n",
    "                deviation = true - prediction\n",
    "                total_assets = len(x_test.iloc[current_index]) + 1\n",
    "                \n",
    "                # arbitrage\n",
    "                if deviation > 0:\n",
    "                    long_assets = total_assets - 1\n",
    "                    pos = pd.Series([1 / long_assets] * total_assets, index = self.data.columns)\n",
    "                    pos.loc[arb.dependent] = -1\n",
    "                    self.positions.loc[date] = pos\n",
    "                \n",
    "                elif deviation < 0:\n",
    "                    short_assets = total_assets - 1\n",
    "                    pos = pd.Series([-1 / short_assets] * total_assets, index = self.data.columns)\n",
    "                    pos.loc[arb.dependent] = 1\n",
    "                    self.positions.loc[date] = pos\n",
    "                \n",
    "                current_index += 1\n",
    "                    "
   ]
  },
  {
   "cell_type": "code",
   "execution_count": 41,
   "id": "cdc02b54",
   "metadata": {},
   "outputs": [],
   "source": [
    "item = Test(yield_df)"
   ]
  },
  {
   "cell_type": "code",
   "execution_count": 42,
   "id": "48bc4759",
   "metadata": {},
   "outputs": [],
   "source": [
    "item.__backtest__()"
   ]
  },
  {
   "cell_type": "code",
   "execution_count": 43,
   "id": "766a9b48",
   "metadata": {},
   "outputs": [
    {
     "data": {
      "image/png": "[encoded data removed]",
      "text/plain": [
       "<Figure size 1000x600 with 1 Axes>"
      ]
     },
     "metadata": {},
     "output_type": "display_data"
    }
   ],
   "source": [
    "rtnz = returns[item.positions.columns]\n",
    "Portfolio(rtnz, item.positions).plot()"
   ]
  },
  {
   "cell_type": "code",
   "execution_count": null,
   "id": "96dfcbf0",
   "metadata": {},
   "outputs": [],
   "source": []
  }
 ],
 "metadata": {
  "kernelspec": {
   "display_name": "Python 3 (ipykernel)",
   "language": "python",
   "name": "python3"
  },
  "language_info": {
   "codemirror_mode": {
    "name": "ipython",
    "version": 3
   },
   "file_extension": ".py",
   "mimetype": "text/x-python",
   "name": "python",
   "nbconvert_exporter": "python",
   "pygments_lexer": "ipython3",
   "version": "3.10.9"
  }
 },
 "nbformat": 4,
 "nbformat_minor": 5
}
