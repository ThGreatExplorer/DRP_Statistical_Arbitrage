{
 "cells": [
  {
   "cell_type": "code",
   "execution_count": 103,
   "id": "1f0cbf32",
   "metadata": {},
   "outputs": [],
   "source": [
    "import pandas as pd\n",
    "import numpy as np\n",
    "import statsmodels.api as sm\n",
    "from statsmodels.tsa.stattools import adfuller\n",
    "import random\n",
    "import quantstats"
   ]
  },
  {
   "cell_type": "code",
   "execution_count": 121,
   "id": "715fc40a",
   "metadata": {},
   "outputs": [],
   "source": [
    "class Arbitrage:\n",
    "    \"\"\"\n",
    "    An object that caches and holds data about some (potentially)\n",
    "    stationary data. The idea of this object is that given some I(1) \n",
    "    data, it will abitrarily look to find cointegrated group. Then, it \n",
    "    allows methods to view the plotted differenced series, displays\n",
    "    information about the stationarity test, etc...\n",
    "    \"\"\"\n",
    "    \n",
    "    def __init__(self, data, method = 'ols'):\n",
    "        self.data = data\n",
    "        self.X, self.y = self.__split__()\n",
    "        self.test_results = None\n",
    "        self.method = method\n",
    "        if self.method == 'ols':\n",
    "            self.__run_ols__()\n",
    "        if self.method == 'wls':\n",
    "            self.__run_wls__()\n",
    "        \n",
    "    def __split__(self):\n",
    "        \"\"\" arbitrary X/y split for cointegration search \"\"\"\n",
    "        col = random.choice(self.data.columns)\n",
    "        self.dependent = col\n",
    "        y = self.data[col]\n",
    "        X = self.data.drop(columns = [col])\n",
    "        return X, y\n",
    "        \n",
    "    def __run_ols__(self):\n",
    "        \"\"\" runs OLS on the groups \"\"\"\n",
    "        model = sm.OLS(self.y, self.X).fit()\n",
    "        self.model = model\n",
    "        self.predictions = model.predict()\n",
    "        self.stationary = self.y - self.predictions\n",
    "        \n",
    "    def __run_wls__(self):\n",
    "        \"\"\" runs WLS with exponential decay on the groups \"\"\"\n",
    "        decay_factor = 0.01\n",
    "        decay = np.exp(-decay_factor * (self.data.index.max() - self.data.index).days)\n",
    "\n",
    "        model = sm.WLS(self.y, self.X, weights = decay).fit()\n",
    "        self.model = model\n",
    "        self.predictions = model.predict()\n",
    "        self.stationary = self.y - self.predictions\n",
    "        \n",
    "    def show_plot(self):\n",
    "        \"\"\" plots the (potentially) stationary differenced series \"\"\"\n",
    "        self.stationary.plot()\n",
    "    \n",
    "    def get_test_results(self):\n",
    "        \"\"\" returns test results of the stationarity test \"\"\"\n",
    "        if self.test_results == None:\n",
    "            self.adf = adfuller(self.stationary)\n",
    "            return self.adf\n",
    "        else:\n",
    "            return self.adf"
   ]
  },
  {
   "cell_type": "code",
   "execution_count": 119,
   "id": "280e1be2",
   "metadata": {},
   "outputs": [
    {
     "name": "stdout",
     "output_type": "stream",
     "text": [
      "Imported class `Arbitrage(data : pd.DataFrame)` with methods `show_plot()`, `get_test_results()`\n"
     ]
    }
   ],
   "source": [
    "print(\"Imported class `Arbitrage(data : pd.DataFrame)` with methods `show_plot()`, `get_test_results()`\")"
   ]
  },
  {
   "cell_type": "code",
   "execution_count": null,
   "id": "b2807957",
   "metadata": {},
   "outputs": [],
   "source": []
  }
 ],
 "metadata": {
  "kernelspec": {
   "display_name": "Python 3 (ipykernel)",
   "language": "python",
   "name": "python3"
  },
  "language_info": {
   "codemirror_mode": {
    "name": "ipython",
    "version": 3
   },
   "file_extension": ".py",
   "mimetype": "text/x-python",
   "name": "python",
   "nbconvert_exporter": "python",
   "pygments_lexer": "ipython3",
   "version": "3.10.9"
  }
 },
 "nbformat": 4,
 "nbformat_minor": 5
}
