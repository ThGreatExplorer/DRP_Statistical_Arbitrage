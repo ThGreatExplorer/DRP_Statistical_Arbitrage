{
 "cells": [
  {
   "cell_type": "code",
   "execution_count": 1,
   "id": "9c990927-cbc7-4701-9d48-d2f110583045",
   "metadata": {},
   "outputs": [],
   "source": [
    "# check in two batches, first if the US, GB, JPY, and GER 10yr treasury yields are all I(1) integrated \n",
    "# US is already checked in the ADF_test.py\n",
    "\n",
    "import numpy as np\n",
    "import pandas as pd\n",
    "\n",
    "import statsmodels\n",
    "import statsmodels.api as sm\n",
    "from statsmodels.tsa.stattools import coint, adfuller\n",
    "\n",
    "import matplotlib.pyplot as plt\n"
   ]
  },
  {
   "cell_type": "code",
   "execution_count": 2,
   "id": "9467cefa-2c8e-48fd-a751-0f509d1ac928",
   "metadata": {
    "scrolled": true
   },
   "outputs": [
    {
     "name": "stdout",
     "output_type": "stream",
     "text": [
      "            Date  PX_LAST  YLD_CNV_LAST\n",
      "0      11/2/2023   4.3796         4.380\n",
      "1      11/1/2023   4.4958         4.496\n",
      "2     10/31/2023   4.5094         4.509\n",
      "3     10/30/2023   4.5576         4.558\n",
      "4     10/27/2023   4.5422         4.542\n",
      "...          ...      ...           ...\n",
      "5981  11/13/2000   5.0964         5.096\n",
      "5982  11/10/2000   5.1322         5.132\n",
      "5983   11/9/2000   5.1550         5.155\n",
      "5984   11/8/2000   5.1713         5.171\n",
      "5985   11/7/2000   5.1676         5.168\n",
      "\n",
      "[5986 rows x 3 columns]\n"
     ]
    }
   ],
   "source": [
    "gb = pd.read_csv(\"Data/csv/GB_10yr_2000.csv\")\n",
    "jpy = pd.read_csv(\"Data/csv/JPY_10yr_2000.csv\")\n",
    "ger = pd.read_csv(\"Data/csv/GER_10yr_2000.csv\")\n",
    "usd = pd.read_csv(\"Data/csv/US10_yr_2000.csv\")\n",
    "print(gb)"
   ]
  },
  {
   "cell_type": "code",
   "execution_count": 3,
   "id": "5b33c47f-df81-4a51-8e78-9cca7371c4d8",
   "metadata": {},
   "outputs": [],
   "source": [
    "# check for stationarity for all 3\n",
    "def check_for_stationarity(X, cutoff=0.01):\n",
    "    # H_0 in adfuller is unit root exists (non-stationary)\n",
    "    # We must observe significant p-value to convince ourselves that the series is stationary\n",
    "    # adfuller (augmented dicky fuller test) is a statistically significant test for stationary dataset\n",
    "    pvalue = adfuller(X)[1]\n",
    "    if pvalue < cutoff:\n",
    "        print('p-value = ' + str(pvalue) + ' The series ' + X.name +' is likely stationary.')\n",
    "        return True\n",
    "    else:\n",
    "        print('p-value = ' + str(pvalue) + ' The series ' + X.name +' is likely non-stationary.')\n",
    "        return False\n"
   ]
  },
  {
   "cell_type": "code",
   "execution_count": 4,
   "id": "c4decad0-cb5e-4218-b11e-248e1f449440",
   "metadata": {},
   "outputs": [],
   "source": [
    "gb_series = gb['PX_LAST']\n",
    "jpy_series = jpy['PX_LAST']\n",
    "ger_series = ger['PX_LAST']\n",
    "usd_series = usd['PX_LAST']"
   ]
  },
  {
   "cell_type": "code",
   "execution_count": 5,
   "id": "6ed4c041-2449-4007-8a29-0f71025ea699",
   "metadata": {},
   "outputs": [
    {
     "name": "stdout",
     "output_type": "stream",
     "text": [
      "p-value = 0.7188404905250834 The series PX_LAST is likely non-stationary.\n",
      "p-value = 0.8301394157255484 The series PX_LAST is likely non-stationary.\n",
      "p-value = 0.9349103498995711 The series PX_LAST is likely non-stationary.\n",
      "p-value = 0.5840302941898966 The series PX_LAST is likely non-stationary.\n"
     ]
    },
    {
     "data": {
      "text/plain": [
       "False"
      ]
     },
     "execution_count": 5,
     "metadata": {},
     "output_type": "execute_result"
    }
   ],
   "source": [
    "check_for_stationarity(gb_series)\n",
    "check_for_stationarity(jpy_series)\n",
    "check_for_stationarity(ger_series)\n",
    "check_for_stationarity(usd_series)"
   ]
  },
  {
   "cell_type": "code",
   "execution_count": 6,
   "id": "d1b47fd3-e1e6-49cb-a3cc-4742aedc0654",
   "metadata": {},
   "outputs": [],
   "source": [
    "# take the diff, I(1)\n",
    "gb1 = gb_series.diff()[1:]\n",
    "gb1.name = 'GB 10yr'\n",
    "jpy1 = jpy_series.diff()[1:]\n",
    "jpy1.name = 'JPY 10yr'\n",
    "ger1 = ger_series.diff()[1:]\n",
    "ger1.name = 'GER 10yr'\n",
    "usd1 = usd_series.diff()[1:]\n",
    "usd1.name = 'US 10yr'"
   ]
  },
  {
   "cell_type": "code",
   "execution_count": 7,
   "id": "62727bcb-6bbd-4c99-8f92-8eec8f0f47ad",
   "metadata": {},
   "outputs": [
    {
     "name": "stdout",
     "output_type": "stream",
     "text": [
      "p-value = 0.0 The series GB 10yr is likely stationary.\n",
      "p-value = 7.294296317803973e-30 The series JPY 10yr is likely stationary.\n",
      "p-value = 0.0 The series GER 10yr is likely stationary.\n",
      "p-value = 7.865516065071169e-30 The series US 10yr is likely stationary.\n"
     ]
    },
    {
     "data": {
      "text/plain": [
       "True"
      ]
     },
     "execution_count": 7,
     "metadata": {},
     "output_type": "execute_result"
    }
   ],
   "source": [
    "check_for_stationarity(gb1)\n",
    "check_for_stationarity(jpy1)\n",
    "check_for_stationarity(ger1)\n",
    "check_for_stationarity(usd1)"
   ]
  },
  {
   "cell_type": "code",
   "execution_count": 63,
   "id": "447745fa-cefa-4ebd-8a96-a5a40958b5e2",
   "metadata": {},
   "outputs": [
    {
     "name": "stdout",
     "output_type": "stream",
     "text": [
      "(5911,)\n"
     ]
    }
   ],
   "source": [
    "print(gb1[:5911].shape)"
   ]
  },
  {
   "cell_type": "code",
   "execution_count": 64,
   "id": "4437ef06-820e-4eab-8867-ae3588409805",
   "metadata": {},
   "outputs": [
    {
     "name": "stdout",
     "output_type": "stream",
     "text": [
      "(5911,)\n"
     ]
    }
   ],
   "source": [
    "print(jpy1.shape)"
   ]
  },
  {
   "cell_type": "code",
   "execution_count": 65,
   "id": "710347e8-f53e-4dc3-9067-9bd1a82b1dad",
   "metadata": {},
   "outputs": [
    {
     "data": {
      "text/plain": [
       "(-24.093798390025736, 0.0, array([-3.89829407, -3.33716405, -3.04516771]))"
      ]
     },
     "execution_count": 65,
     "metadata": {},
     "output_type": "execute_result"
    }
   ],
   "source": [
    "coint(gb1[:5911], jpy1)"
   ]
  },
  {
   "cell_type": "code",
   "execution_count": 66,
   "id": "68c68200-87ae-4d58-9fc3-66455fb4da84",
   "metadata": {},
   "outputs": [
    {
     "name": "stdout",
     "output_type": "stream",
     "text": [
      "(5911,)\n"
     ]
    }
   ],
   "source": [
    "print(ger1[:5911].shape)"
   ]
  },
  {
   "cell_type": "code",
   "execution_count": 67,
   "id": "46665ea9-d930-4482-a585-80e7317d40d1",
   "metadata": {},
   "outputs": [
    {
     "data": {
      "text/plain": [
       "(-30.563472370598443, 0.0, array([-3.89829407, -3.33716405, -3.04516771]))"
      ]
     },
     "execution_count": 67,
     "metadata": {},
     "output_type": "execute_result"
    }
   ],
   "source": [
    "coint(ger1[:5911], jpy1)"
   ]
  },
  {
   "cell_type": "code",
   "execution_count": 68,
   "id": "2afaf70c-8d60-45a6-9235-427ba9c8abcf",
   "metadata": {
    "scrolled": true
   },
   "outputs": [
    {
     "data": {
      "text/plain": [
       "(-75.62827940671747, 0.0, array([-3.89829407, -3.33716405, -3.04516771]))"
      ]
     },
     "execution_count": 68,
     "metadata": {},
     "output_type": "execute_result"
    }
   ],
   "source": [
    "coint(ger1[:5911], gb1[:5911])"
   ]
  },
  {
   "cell_type": "code",
   "execution_count": 69,
   "id": "13a2cd35-f307-483c-b400-87a39e6ee637",
   "metadata": {
    "scrolled": true
   },
   "outputs": [
    {
     "data": {
      "text/plain": [
       "(-24.229677318971266, 0.0, array([-3.89829407, -3.33716405, -3.04516771]))"
      ]
     },
     "execution_count": 69,
     "metadata": {},
     "output_type": "execute_result"
    }
   ],
   "source": [
    "# All cointegrated and theoretically we should be able to pair trade all 6 pairs: (GER:JPY, GER: GB, GB:JPY, US:GER, US:JPY, US:GB)\n",
    "coint(usd1[:5911], jpy1)"
   ]
  },
  {
   "cell_type": "code",
   "execution_count": 70,
   "id": "1e25c13f-5e79-480c-89e8-a6c4660a7fc9",
   "metadata": {},
   "outputs": [
    {
     "data": {
      "text/plain": [
       "(-24.338277679812578, 0.0, array([-3.89829407, -3.33716405, -3.04516771]))"
      ]
     },
     "execution_count": 70,
     "metadata": {},
     "output_type": "execute_result"
    }
   ],
   "source": [
    "coint(usd1[:5911], gb1[:5911])"
   ]
  },
  {
   "cell_type": "code",
   "execution_count": 71,
   "id": "a8d6c3b0-e66c-4e25-84fd-0cae7decd544",
   "metadata": {},
   "outputs": [
    {
     "data": {
      "text/plain": [
       "(-24.148440786344413, 0.0, array([-3.89829407, -3.33716405, -3.04516771]))"
      ]
     },
     "execution_count": 71,
     "metadata": {},
     "output_type": "execute_result"
    }
   ],
   "source": [
    "coint(usd1[:5911], ger1[:5911])"
   ]
  },
  {
   "cell_type": "markdown",
   "id": "2eb75a63",
   "metadata": {},
   "source": [
    "### cleaning up:\n",
    "\n",
    "- turn everything into functions/classes\n",
    "- display graphs showing the movement of asset prices / returns\n",
    "\n",
    "### next steps:\n",
    "\n",
    "- find beta (regression coefficient) \n",
    "- find cointegated sets\n",
    "\n",
    "arima : predict future returns using previous moving averages, returns, etc...\n",
    "idea of arima is to predict future returns using past returns -> why does the series need to be stationary?\n",
    "\n",
    "beta * A = B -> IS THE STATIONARITY\n",
    "beta * A - B = 0 --> beta * A - B is stationary\n",
    "if at t0, beta * A > B, either B is underpriced or beta * A is overpriced\n",
    "\n"
   ]
  },
  {
   "cell_type": "code",
   "execution_count": null,
   "id": "db785a98",
   "metadata": {},
   "outputs": [],
   "source": []
  }
 ],
 "metadata": {
  "kernelspec": {
   "display_name": "Python 3 (ipykernel)",
   "language": "python",
   "name": "python3"
  },
  "language_info": {
   "codemirror_mode": {
    "name": "ipython",
    "version": 3
   },
   "file_extension": ".py",
   "mimetype": "text/x-python",
   "name": "python",
   "nbconvert_exporter": "python",
   "pygments_lexer": "ipython3",
   "version": "3.10.9"
  }
 },
 "nbformat": 4,
 "nbformat_minor": 5
}
